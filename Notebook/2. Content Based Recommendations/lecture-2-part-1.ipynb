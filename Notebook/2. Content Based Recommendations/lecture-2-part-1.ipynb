{
 "cells": [
  {
   "cell_type": "code",
   "execution_count": 28,
   "metadata": {
    "ExecuteTime": {
     "end_time": "2020-02-03T17:08:12.166134Z",
     "start_time": "2020-02-03T17:08:11.067569Z"
    }
   },
   "outputs": [],
   "source": [
    "import pandas as pd\n",
    "import numpy as np\n",
    "from datetime import datetime\n",
    "import seaborn as sns\n",
    "sns.set()\n",
    "\n",
    "from tqdm import tqdm_notebook\n",
    "\n",
    "import matplotlib.pyplot as plt\n",
    "\n",
    "%matplotlib inline"
   ]
  },
  {
   "cell_type": "code",
   "execution_count": 2,
   "metadata": {
    "ExecuteTime": {
     "end_time": "2020-02-03T17:08:15.346079Z",
     "start_time": "2020-02-03T17:08:15.229512Z"
    },
    "scrolled": true
   },
   "outputs": [],
   "source": [
    "links = pd.read_csv('links.csv')\n",
    "movies = pd.read_csv('movies.csv')\n",
    "ratings = pd.read_csv('ratings.csv')\n",
    "tags = pd.read_csv('tags.csv')"
   ]
  },
  {
   "cell_type": "code",
   "execution_count": 3,
   "metadata": {
    "ExecuteTime": {
     "end_time": "2020-02-03T17:08:22.206215Z",
     "start_time": "2020-02-03T17:08:22.189721Z"
    }
   },
   "outputs": [
    {
     "data": {
      "text/html": [
       "<div>\n",
       "<style scoped>\n",
       "    .dataframe tbody tr th:only-of-type {\n",
       "        vertical-align: middle;\n",
       "    }\n",
       "\n",
       "    .dataframe tbody tr th {\n",
       "        vertical-align: top;\n",
       "    }\n",
       "\n",
       "    .dataframe thead th {\n",
       "        text-align: right;\n",
       "    }\n",
       "</style>\n",
       "<table border=\"1\" class=\"dataframe\">\n",
       "  <thead>\n",
       "    <tr style=\"text-align: right;\">\n",
       "      <th></th>\n",
       "      <th>userId</th>\n",
       "      <th>movieId</th>\n",
       "      <th>tag</th>\n",
       "      <th>timestamp</th>\n",
       "    </tr>\n",
       "  </thead>\n",
       "  <tbody>\n",
       "    <tr>\n",
       "      <th>0</th>\n",
       "      <td>2</td>\n",
       "      <td>60756</td>\n",
       "      <td>funny</td>\n",
       "      <td>1445714994</td>\n",
       "    </tr>\n",
       "    <tr>\n",
       "      <th>1</th>\n",
       "      <td>2</td>\n",
       "      <td>60756</td>\n",
       "      <td>Highly quotable</td>\n",
       "      <td>1445714996</td>\n",
       "    </tr>\n",
       "    <tr>\n",
       "      <th>2</th>\n",
       "      <td>2</td>\n",
       "      <td>60756</td>\n",
       "      <td>will ferrell</td>\n",
       "      <td>1445714992</td>\n",
       "    </tr>\n",
       "    <tr>\n",
       "      <th>3</th>\n",
       "      <td>2</td>\n",
       "      <td>89774</td>\n",
       "      <td>Boxing story</td>\n",
       "      <td>1445715207</td>\n",
       "    </tr>\n",
       "    <tr>\n",
       "      <th>4</th>\n",
       "      <td>2</td>\n",
       "      <td>89774</td>\n",
       "      <td>MMA</td>\n",
       "      <td>1445715200</td>\n",
       "    </tr>\n",
       "  </tbody>\n",
       "</table>\n",
       "</div>"
      ],
      "text/plain": [
       "   userId  movieId              tag   timestamp\n",
       "0       2    60756            funny  1445714994\n",
       "1       2    60756  Highly quotable  1445714996\n",
       "2       2    60756     will ferrell  1445714992\n",
       "3       2    89774     Boxing story  1445715207\n",
       "4       2    89774              MMA  1445715200"
      ]
     },
     "execution_count": 3,
     "metadata": {},
     "output_type": "execute_result"
    }
   ],
   "source": [
    "tags.head()"
   ]
  },
  {
   "cell_type": "code",
   "execution_count": 29,
   "metadata": {
    "ExecuteTime": {
     "end_time": "2020-02-03T17:08:43.077396Z",
     "start_time": "2020-02-03T17:08:42.867409Z"
    }
   },
   "outputs": [
    {
     "data": {
      "image/png": "[encoded data removed]",
      "text/plain": [
       "<Figure size 432x288 with 1 Axes>"
      ]
     },
     "metadata": {
      "needs_background": "light"
     },
     "output_type": "display_data"
    }
   ],
   "source": [
    "tags.groupby('userId').tag.count().hist(bins=30);"
   ]
  },
  {
   "cell_type": "code",
   "execution_count": 10,
   "metadata": {
    "ExecuteTime": {
     "end_time": "2020-02-03T17:09:11.085531Z",
     "start_time": "2020-02-03T17:09:11.079183Z"
    }
   },
   "outputs": [
    {
     "data": {
      "text/plain": [
       "4.0"
      ]
     },
     "execution_count": 10,
     "metadata": {},
     "output_type": "execute_result"
    }
   ],
   "source": [
    "tags.groupby('userId').tag.count().median()"
   ]
  },
  {
   "cell_type": "code",
   "execution_count": 6,
   "metadata": {
    "ExecuteTime": {
     "end_time": "2020-02-03T17:09:13.507346Z",
     "start_time": "2020-02-03T17:09:13.501251Z"
    }
   },
   "outputs": [
    {
     "data": {
      "text/plain": [
       "63.5"
      ]
     },
     "execution_count": 6,
     "metadata": {},
     "output_type": "execute_result"
    }
   ],
   "source": [
    "tags.groupby('userId').tag.count().mean()"
   ]
  },
  {
   "cell_type": "code",
   "execution_count": 11,
   "metadata": {},
   "outputs": [
    {
     "data": {
      "text/plain": [
       "1507"
      ]
     },
     "execution_count": 11,
     "metadata": {},
     "output_type": "execute_result"
    }
   ],
   "source": [
    "tags.groupby('userId').tag.count().max()"
   ]
  },
  {
   "cell_type": "code",
   "execution_count": 7,
   "metadata": {
    "ExecuteTime": {
     "end_time": "2020-02-03T17:09:42.923226Z",
     "start_time": "2020-02-03T17:09:42.915530Z"
    }
   },
   "outputs": [
    {
     "data": {
      "text/plain": [
       "userId\n",
       "474    1507\n",
       "567     432\n",
       "62      370\n",
       "599     323\n",
       "477     280\n",
       "Name: tag, dtype: int64"
      ]
     },
     "execution_count": 7,
     "metadata": {},
     "output_type": "execute_result"
    }
   ],
   "source": [
    "tags.groupby('userId').tag.count().sort_values(ascending=False).head()"
   ]
  },
  {
   "cell_type": "code",
   "execution_count": 14,
   "metadata": {
    "ExecuteTime": {
     "end_time": "2020-02-03T17:10:54.809976Z",
     "start_time": "2020-02-03T17:10:54.788270Z"
    }
   },
   "outputs": [
    {
     "data": {
      "text/html": [
       "<div>\n",
       "<style scoped>\n",
       "    .dataframe tbody tr th:only-of-type {\n",
       "        vertical-align: middle;\n",
       "    }\n",
       "\n",
       "    .dataframe tbody tr th {\n",
       "        vertical-align: top;\n",
       "    }\n",
       "\n",
       "    .dataframe thead th {\n",
       "        text-align: right;\n",
       "    }\n",
       "</style>\n",
       "<table border=\"1\" class=\"dataframe\">\n",
       "  <thead>\n",
       "    <tr style=\"text-align: right;\">\n",
       "      <th></th>\n",
       "      <th>userId</th>\n",
       "      <th>movieId</th>\n",
       "      <th>tag</th>\n",
       "      <th>timestamp</th>\n",
       "    </tr>\n",
       "  </thead>\n",
       "  <tbody>\n",
       "    <tr>\n",
       "      <th>996</th>\n",
       "      <td>474</td>\n",
       "      <td>28</td>\n",
       "      <td>In Netflix queue</td>\n",
       "      <td>1137201942</td>\n",
       "    </tr>\n",
       "    <tr>\n",
       "      <th>1009</th>\n",
       "      <td>474</td>\n",
       "      <td>40</td>\n",
       "      <td>In Netflix queue</td>\n",
       "      <td>1137202107</td>\n",
       "    </tr>\n",
       "    <tr>\n",
       "      <th>1037</th>\n",
       "      <td>474</td>\n",
       "      <td>162</td>\n",
       "      <td>In Netflix queue</td>\n",
       "      <td>1137202038</td>\n",
       "    </tr>\n",
       "    <tr>\n",
       "      <th>1047</th>\n",
       "      <td>474</td>\n",
       "      <td>232</td>\n",
       "      <td>In Netflix queue</td>\n",
       "      <td>1137201027</td>\n",
       "    </tr>\n",
       "    <tr>\n",
       "      <th>1067</th>\n",
       "      <td>474</td>\n",
       "      <td>279</td>\n",
       "      <td>In Netflix queue</td>\n",
       "      <td>1137202159</td>\n",
       "    </tr>\n",
       "    <tr>\n",
       "      <th>1071</th>\n",
       "      <td>474</td>\n",
       "      <td>290</td>\n",
       "      <td>In Netflix queue</td>\n",
       "      <td>1137201907</td>\n",
       "    </tr>\n",
       "    <tr>\n",
       "      <th>1082</th>\n",
       "      <td>474</td>\n",
       "      <td>326</td>\n",
       "      <td>In Netflix queue</td>\n",
       "      <td>1137201797</td>\n",
       "    </tr>\n",
       "    <tr>\n",
       "      <th>1100</th>\n",
       "      <td>474</td>\n",
       "      <td>363</td>\n",
       "      <td>In Netflix queue</td>\n",
       "      <td>1137202123</td>\n",
       "    </tr>\n",
       "    <tr>\n",
       "      <th>1136</th>\n",
       "      <td>474</td>\n",
       "      <td>531</td>\n",
       "      <td>In Netflix queue</td>\n",
       "      <td>1137201896</td>\n",
       "    </tr>\n",
       "    <tr>\n",
       "      <th>1171</th>\n",
       "      <td>474</td>\n",
       "      <td>728</td>\n",
       "      <td>In Netflix queue</td>\n",
       "      <td>1137202096</td>\n",
       "    </tr>\n",
       "    <tr>\n",
       "      <th>1179</th>\n",
       "      <td>474</td>\n",
       "      <td>800</td>\n",
       "      <td>In Netflix queue</td>\n",
       "      <td>1137201974</td>\n",
       "    </tr>\n",
       "    <tr>\n",
       "      <th>1270</th>\n",
       "      <td>474</td>\n",
       "      <td>1041</td>\n",
       "      <td>In Netflix queue</td>\n",
       "      <td>1137201463</td>\n",
       "    </tr>\n",
       "    <tr>\n",
       "      <th>1304</th>\n",
       "      <td>474</td>\n",
       "      <td>1147</td>\n",
       "      <td>In Netflix queue</td>\n",
       "      <td>1137201093</td>\n",
       "    </tr>\n",
       "    <tr>\n",
       "      <th>1312</th>\n",
       "      <td>474</td>\n",
       "      <td>1185</td>\n",
       "      <td>In Netflix queue</td>\n",
       "      <td>1137201055</td>\n",
       "    </tr>\n",
       "    <tr>\n",
       "      <th>1316</th>\n",
       "      <td>474</td>\n",
       "      <td>1189</td>\n",
       "      <td>In Netflix queue</td>\n",
       "      <td>1137201133</td>\n",
       "    </tr>\n",
       "    <tr>\n",
       "      <th>1387</th>\n",
       "      <td>474</td>\n",
       "      <td>1277</td>\n",
       "      <td>In Netflix queue</td>\n",
       "      <td>1137201859</td>\n",
       "    </tr>\n",
       "    <tr>\n",
       "      <th>1389</th>\n",
       "      <td>474</td>\n",
       "      <td>1280</td>\n",
       "      <td>In Netflix queue</td>\n",
       "      <td>1137201087</td>\n",
       "    </tr>\n",
       "    <tr>\n",
       "      <th>1423</th>\n",
       "      <td>474</td>\n",
       "      <td>1361</td>\n",
       "      <td>In Netflix queue</td>\n",
       "      <td>1137201059</td>\n",
       "    </tr>\n",
       "    <tr>\n",
       "      <th>1447</th>\n",
       "      <td>474</td>\n",
       "      <td>1423</td>\n",
       "      <td>In Netflix queue</td>\n",
       "      <td>1137202085</td>\n",
       "    </tr>\n",
       "    <tr>\n",
       "      <th>1450</th>\n",
       "      <td>474</td>\n",
       "      <td>1446</td>\n",
       "      <td>In Netflix queue</td>\n",
       "      <td>1137201854</td>\n",
       "    </tr>\n",
       "    <tr>\n",
       "      <th>1460</th>\n",
       "      <td>474</td>\n",
       "      <td>1542</td>\n",
       "      <td>In Netflix queue</td>\n",
       "      <td>1137202048</td>\n",
       "    </tr>\n",
       "    <tr>\n",
       "      <th>1478</th>\n",
       "      <td>474</td>\n",
       "      <td>1672</td>\n",
       "      <td>In Netflix queue</td>\n",
       "      <td>1137202154</td>\n",
       "    </tr>\n",
       "    <tr>\n",
       "      <th>1494</th>\n",
       "      <td>474</td>\n",
       "      <td>1797</td>\n",
       "      <td>In Netflix queue</td>\n",
       "      <td>1137201971</td>\n",
       "    </tr>\n",
       "    <tr>\n",
       "      <th>1498</th>\n",
       "      <td>474</td>\n",
       "      <td>1893</td>\n",
       "      <td>In Netflix queue</td>\n",
       "      <td>1137201105</td>\n",
       "    </tr>\n",
       "    <tr>\n",
       "      <th>1499</th>\n",
       "      <td>474</td>\n",
       "      <td>1900</td>\n",
       "      <td>In Netflix queue</td>\n",
       "      <td>1137201889</td>\n",
       "    </tr>\n",
       "    <tr>\n",
       "      <th>1511</th>\n",
       "      <td>474</td>\n",
       "      <td>1942</td>\n",
       "      <td>In Netflix queue</td>\n",
       "      <td>1137201047</td>\n",
       "    </tr>\n",
       "    <tr>\n",
       "      <th>1555</th>\n",
       "      <td>474</td>\n",
       "      <td>2065</td>\n",
       "      <td>In Netflix queue</td>\n",
       "      <td>1137202057</td>\n",
       "    </tr>\n",
       "    <tr>\n",
       "      <th>1559</th>\n",
       "      <td>474</td>\n",
       "      <td>2071</td>\n",
       "      <td>In Netflix queue</td>\n",
       "      <td>1137200442</td>\n",
       "    </tr>\n",
       "    <tr>\n",
       "      <th>1610</th>\n",
       "      <td>474</td>\n",
       "      <td>2351</td>\n",
       "      <td>In Netflix queue</td>\n",
       "      <td>1137202131</td>\n",
       "    </tr>\n",
       "    <tr>\n",
       "      <th>1613</th>\n",
       "      <td>474</td>\n",
       "      <td>2360</td>\n",
       "      <td>In Netflix queue</td>\n",
       "      <td>1137201464</td>\n",
       "    </tr>\n",
       "    <tr>\n",
       "      <th>...</th>\n",
       "      <td>...</td>\n",
       "      <td>...</td>\n",
       "      <td>...</td>\n",
       "      <td>...</td>\n",
       "    </tr>\n",
       "    <tr>\n",
       "      <th>2359</th>\n",
       "      <td>474</td>\n",
       "      <td>8609</td>\n",
       "      <td>In Netflix queue</td>\n",
       "      <td>1137179727</td>\n",
       "    </tr>\n",
       "    <tr>\n",
       "      <th>2369</th>\n",
       "      <td>474</td>\n",
       "      <td>8765</td>\n",
       "      <td>In Netflix queue</td>\n",
       "      <td>1137179707</td>\n",
       "    </tr>\n",
       "    <tr>\n",
       "      <th>2374</th>\n",
       "      <td>474</td>\n",
       "      <td>8838</td>\n",
       "      <td>In Netflix queue</td>\n",
       "      <td>1137179758</td>\n",
       "    </tr>\n",
       "    <tr>\n",
       "      <th>2396</th>\n",
       "      <td>474</td>\n",
       "      <td>8998</td>\n",
       "      <td>In Netflix queue</td>\n",
       "      <td>1137179738</td>\n",
       "    </tr>\n",
       "    <tr>\n",
       "      <th>2401</th>\n",
       "      <td>474</td>\n",
       "      <td>25855</td>\n",
       "      <td>In Netflix queue</td>\n",
       "      <td>1137179637</td>\n",
       "    </tr>\n",
       "    <tr>\n",
       "      <th>2402</th>\n",
       "      <td>474</td>\n",
       "      <td>25865</td>\n",
       "      <td>In Netflix queue</td>\n",
       "      <td>1137201652</td>\n",
       "    </tr>\n",
       "    <tr>\n",
       "      <th>2405</th>\n",
       "      <td>474</td>\n",
       "      <td>25952</td>\n",
       "      <td>In Netflix queue</td>\n",
       "      <td>1137179713</td>\n",
       "    </tr>\n",
       "    <tr>\n",
       "      <th>2407</th>\n",
       "      <td>474</td>\n",
       "      <td>26131</td>\n",
       "      <td>In Netflix queue</td>\n",
       "      <td>1137200982</td>\n",
       "    </tr>\n",
       "    <tr>\n",
       "      <th>2409</th>\n",
       "      <td>474</td>\n",
       "      <td>26242</td>\n",
       "      <td>In Netflix queue</td>\n",
       "      <td>1137179570</td>\n",
       "    </tr>\n",
       "    <tr>\n",
       "      <th>2411</th>\n",
       "      <td>474</td>\n",
       "      <td>26776</td>\n",
       "      <td>In Netflix queue</td>\n",
       "      <td>1137179786</td>\n",
       "    </tr>\n",
       "    <tr>\n",
       "      <th>2412</th>\n",
       "      <td>474</td>\n",
       "      <td>27731</td>\n",
       "      <td>In Netflix queue</td>\n",
       "      <td>1137201122</td>\n",
       "    </tr>\n",
       "    <tr>\n",
       "      <th>2413</th>\n",
       "      <td>474</td>\n",
       "      <td>27741</td>\n",
       "      <td>In Netflix queue</td>\n",
       "      <td>1137179587</td>\n",
       "    </tr>\n",
       "    <tr>\n",
       "      <th>2434</th>\n",
       "      <td>474</td>\n",
       "      <td>31658</td>\n",
       "      <td>In Netflix queue</td>\n",
       "      <td>1137201531</td>\n",
       "    </tr>\n",
       "    <tr>\n",
       "      <th>2436</th>\n",
       "      <td>474</td>\n",
       "      <td>31923</td>\n",
       "      <td>In Netflix queue</td>\n",
       "      <td>1137200865</td>\n",
       "    </tr>\n",
       "    <tr>\n",
       "      <th>2437</th>\n",
       "      <td>474</td>\n",
       "      <td>32160</td>\n",
       "      <td>In Netflix queue</td>\n",
       "      <td>1137179674</td>\n",
       "    </tr>\n",
       "    <tr>\n",
       "      <th>2438</th>\n",
       "      <td>474</td>\n",
       "      <td>32371</td>\n",
       "      <td>In Netflix queue</td>\n",
       "      <td>1137202044</td>\n",
       "    </tr>\n",
       "    <tr>\n",
       "      <th>2452</th>\n",
       "      <td>474</td>\n",
       "      <td>34437</td>\n",
       "      <td>In Netflix queue</td>\n",
       "      <td>1137179720</td>\n",
       "    </tr>\n",
       "    <tr>\n",
       "      <th>2453</th>\n",
       "      <td>474</td>\n",
       "      <td>34482</td>\n",
       "      <td>In Netflix queue</td>\n",
       "      <td>1137202180</td>\n",
       "    </tr>\n",
       "    <tr>\n",
       "      <th>2458</th>\n",
       "      <td>474</td>\n",
       "      <td>35015</td>\n",
       "      <td>In Netflix queue</td>\n",
       "      <td>1137202200</td>\n",
       "    </tr>\n",
       "    <tr>\n",
       "      <th>2463</th>\n",
       "      <td>474</td>\n",
       "      <td>36535</td>\n",
       "      <td>In Netflix queue</td>\n",
       "      <td>1137201162</td>\n",
       "    </tr>\n",
       "    <tr>\n",
       "      <th>2464</th>\n",
       "      <td>474</td>\n",
       "      <td>37240</td>\n",
       "      <td>In Netflix queue</td>\n",
       "      <td>1138804230</td>\n",
       "    </tr>\n",
       "    <tr>\n",
       "      <th>2466</th>\n",
       "      <td>474</td>\n",
       "      <td>37733</td>\n",
       "      <td>In Netflix queue</td>\n",
       "      <td>1137200955</td>\n",
       "    </tr>\n",
       "    <tr>\n",
       "      <th>2471</th>\n",
       "      <td>474</td>\n",
       "      <td>38061</td>\n",
       "      <td>In Netflix queue</td>\n",
       "      <td>1137179624</td>\n",
       "    </tr>\n",
       "    <tr>\n",
       "      <th>2474</th>\n",
       "      <td>474</td>\n",
       "      <td>39234</td>\n",
       "      <td>In Netflix queue</td>\n",
       "      <td>1137202089</td>\n",
       "    </tr>\n",
       "    <tr>\n",
       "      <th>2475</th>\n",
       "      <td>474</td>\n",
       "      <td>39292</td>\n",
       "      <td>In Netflix queue</td>\n",
       "      <td>1137201595</td>\n",
       "    </tr>\n",
       "    <tr>\n",
       "      <th>2479</th>\n",
       "      <td>474</td>\n",
       "      <td>40583</td>\n",
       "      <td>In Netflix queue</td>\n",
       "      <td>1137200527</td>\n",
       "    </tr>\n",
       "    <tr>\n",
       "      <th>2480</th>\n",
       "      <td>474</td>\n",
       "      <td>40629</td>\n",
       "      <td>In Netflix queue</td>\n",
       "      <td>1137179797</td>\n",
       "    </tr>\n",
       "    <tr>\n",
       "      <th>2485</th>\n",
       "      <td>474</td>\n",
       "      <td>41997</td>\n",
       "      <td>In Netflix queue</td>\n",
       "      <td>1137179603</td>\n",
       "    </tr>\n",
       "    <tr>\n",
       "      <th>2486</th>\n",
       "      <td>474</td>\n",
       "      <td>42002</td>\n",
       "      <td>In Netflix queue</td>\n",
       "      <td>1137202150</td>\n",
       "    </tr>\n",
       "    <tr>\n",
       "      <th>2487</th>\n",
       "      <td>474</td>\n",
       "      <td>42740</td>\n",
       "      <td>In Netflix queue</td>\n",
       "      <td>1138804237</td>\n",
       "    </tr>\n",
       "  </tbody>\n",
       "</table>\n",
       "<p>131 rows × 4 columns</p>\n",
       "</div>"
      ],
      "text/plain": [
       "      userId  movieId               tag   timestamp\n",
       "996      474       28  In Netflix queue  1137201942\n",
       "1009     474       40  In Netflix queue  1137202107\n",
       "1037     474      162  In Netflix queue  1137202038\n",
       "1047     474      232  In Netflix queue  1137201027\n",
       "1067     474      279  In Netflix queue  1137202159\n",
       "1071     474      290  In Netflix queue  1137201907\n",
       "1082     474      326  In Netflix queue  1137201797\n",
       "1100     474      363  In Netflix queue  1137202123\n",
       "1136     474      531  In Netflix queue  1137201896\n",
       "1171     474      728  In Netflix queue  1137202096\n",
       "1179     474      800  In Netflix queue  1137201974\n",
       "1270     474     1041  In Netflix queue  1137201463\n",
       "1304     474     1147  In Netflix queue  1137201093\n",
       "1312     474     1185  In Netflix queue  1137201055\n",
       "1316     474     1189  In Netflix queue  1137201133\n",
       "1387     474     1277  In Netflix queue  1137201859\n",
       "1389     474     1280  In Netflix queue  1137201087\n",
       "1423     474     1361  In Netflix queue  1137201059\n",
       "1447     474     1423  In Netflix queue  1137202085\n",
       "1450     474     1446  In Netflix queue  1137201854\n",
       "1460     474     1542  In Netflix queue  1137202048\n",
       "1478     474     1672  In Netflix queue  1137202154\n",
       "1494     474     1797  In Netflix queue  1137201971\n",
       "1498     474     1893  In Netflix queue  1137201105\n",
       "1499     474     1900  In Netflix queue  1137201889\n",
       "1511     474     1942  In Netflix queue  1137201047\n",
       "1555     474     2065  In Netflix queue  1137202057\n",
       "1559     474     2071  In Netflix queue  1137200442\n",
       "1610     474     2351  In Netflix queue  1137202131\n",
       "1613     474     2360  In Netflix queue  1137201464\n",
       "...      ...      ...               ...         ...\n",
       "2359     474     8609  In Netflix queue  1137179727\n",
       "2369     474     8765  In Netflix queue  1137179707\n",
       "2374     474     8838  In Netflix queue  1137179758\n",
       "2396     474     8998  In Netflix queue  1137179738\n",
       "2401     474    25855  In Netflix queue  1137179637\n",
       "2402     474    25865  In Netflix queue  1137201652\n",
       "2405     474    25952  In Netflix queue  1137179713\n",
       "2407     474    26131  In Netflix queue  1137200982\n",
       "2409     474    26242  In Netflix queue  1137179570\n",
       "2411     474    26776  In Netflix queue  1137179786\n",
       "2412     474    27731  In Netflix queue  1137201122\n",
       "2413     474    27741  In Netflix queue  1137179587\n",
       "2434     474    31658  In Netflix queue  1137201531\n",
       "2436     474    31923  In Netflix queue  1137200865\n",
       "2437     474    32160  In Netflix queue  1137179674\n",
       "2438     474    32371  In Netflix queue  1137202044\n",
       "2452     474    34437  In Netflix queue  1137179720\n",
       "2453     474    34482  In Netflix queue  1137202180\n",
       "2458     474    35015  In Netflix queue  1137202200\n",
       "2463     474    36535  In Netflix queue  1137201162\n",
       "2464     474    37240  In Netflix queue  1138804230\n",
       "2466     474    37733  In Netflix queue  1137200955\n",
       "2471     474    38061  In Netflix queue  1137179624\n",
       "2474     474    39234  In Netflix queue  1137202089\n",
       "2475     474    39292  In Netflix queue  1137201595\n",
       "2479     474    40583  In Netflix queue  1137200527\n",
       "2480     474    40629  In Netflix queue  1137179797\n",
       "2485     474    41997  In Netflix queue  1137179603\n",
       "2486     474    42002  In Netflix queue  1137202150\n",
       "2487     474    42740  In Netflix queue  1138804237\n",
       "\n",
       "[131 rows x 4 columns]"
      ]
     },
     "execution_count": 14,
     "metadata": {},
     "output_type": "execute_result"
    }
   ],
   "source": [
    "u_tags = tags[tags['userId']==474]\n",
    "u_tags[u_tags['tag']=='In Netflix queue']"
   ]
  },
  {
   "cell_type": "code",
   "execution_count": 30,
   "metadata": {
    "ExecuteTime": {
     "end_time": "2019-05-30T17:20:35.949953Z",
     "start_time": "2019-05-30T17:20:35.714869Z"
    }
   },
   "outputs": [
    {
     "data": {
      "image/png": "[encoded data removed]",
      "text/plain": [
       "<Figure size 432x288 with 1 Axes>"
      ]
     },
     "metadata": {
      "needs_background": "light"
     },
     "output_type": "display_data"
    }
   ],
   "source": [
    "tags.groupby('movieId').tag.count().hist(bins=30);"
   ]
  },
  {
   "cell_type": "code",
   "execution_count": 39,
   "metadata": {
    "ExecuteTime": {
     "end_time": "2019-05-30T17:21:21.712921Z",
     "start_time": "2019-05-30T17:21:21.702354Z"
    }
   },
   "outputs": [
    {
     "data": {
      "text/plain": [
       "movieId\n",
       "1          3\n",
       "2          4\n",
       "3          2\n",
       "5          2\n",
       "7          1\n",
       "11         2\n",
       "14         2\n",
       "16         1\n",
       "17         1\n",
       "21         1\n",
       "22         1\n",
       "25         1\n",
       "26         1\n",
       "28         2\n",
       "29         1\n",
       "31         2\n",
       "32        10\n",
       "34         3\n",
       "36         2\n",
       "38         1\n",
       "39         7\n",
       "40         2\n",
       "41         1\n",
       "43         1\n",
       "45         1\n",
       "46         1\n",
       "47         3\n",
       "50         6\n",
       "52         2\n",
       "58         1\n",
       "          ..\n",
       "144210     2\n",
       "148626     3\n",
       "148881     2\n",
       "152077     2\n",
       "152711     5\n",
       "153070     1\n",
       "155288     2\n",
       "156371     1\n",
       "156605     3\n",
       "158872     5\n",
       "158966     6\n",
       "161634     1\n",
       "164179     7\n",
       "164909     2\n",
       "167746     2\n",
       "168248     8\n",
       "168252     5\n",
       "170945     2\n",
       "174053     5\n",
       "174055     3\n",
       "176371     8\n",
       "176419     3\n",
       "179401     4\n",
       "180031     2\n",
       "180985     1\n",
       "183611     3\n",
       "184471     3\n",
       "187593     3\n",
       "187595     2\n",
       "193565     4\n",
       "Name: tag, Length: 1572, dtype: int64"
      ]
     },
     "execution_count": 39,
     "metadata": {},
     "output_type": "execute_result"
    }
   ],
   "source": [
    "tags.groupby('movieId').tag.count()"
   ]
  },
  {
   "cell_type": "code",
   "execution_count": 16,
   "metadata": {
    "ExecuteTime": {
     "end_time": "2019-05-30T17:21:25.576893Z",
     "start_time": "2019-05-30T17:21:25.568826Z"
    }
   },
   "outputs": [
    {
     "data": {
      "text/plain": [
       "2.3428753180661577"
      ]
     },
     "execution_count": 16,
     "metadata": {},
     "output_type": "execute_result"
    }
   ],
   "source": [
    "tags.groupby('movieId').tag.count().mean()"
   ]
  },
  {
   "cell_type": "code",
   "execution_count": 17,
   "metadata": {
    "ExecuteTime": {
     "end_time": "2019-05-30T17:21:28.754050Z",
     "start_time": "2019-05-30T17:21:28.747104Z"
    }
   },
   "outputs": [
    {
     "data": {
      "text/plain": [
       "1.0"
      ]
     },
     "execution_count": 17,
     "metadata": {},
     "output_type": "execute_result"
    }
   ],
   "source": [
    "tags.groupby('movieId').tag.count().median()"
   ]
  },
  {
   "cell_type": "code",
   "execution_count": 21,
   "metadata": {
    "ExecuteTime": {
     "end_time": "2020-02-03T17:12:49.369159Z",
     "start_time": "2020-02-03T17:12:49.358357Z"
    }
   },
   "outputs": [
    {
     "data": {
      "application/vnd.jupyter.widget-view+json": {
       "model_id": "26ea7f0a3f794cca8b9e348feb1856ab",
       "version_major": 2,
       "version_minor": 0
      },
      "text/plain": [
       "HBox(children=(IntProgress(value=0, max=3683), HTML(value='')))"
      ]
     },
     "metadata": {},
     "output_type": "display_data"
    },
    {
     "name": "stdout",
     "output_type": "stream",
     "text": [
      "\n"
     ]
    }
   ],
   "source": [
    "year_month = []\n",
    "\n",
    "for t in tqdm_notebook(tags.timestamp.values):\n",
    "    d = datetime.fromtimestamp(t)\n",
    "    year_month.append(str(d.year) + '-' + str(d.month))"
   ]
  },
  {
   "cell_type": "code",
   "execution_count": 24,
   "metadata": {},
   "outputs": [
    {
     "data": {
      "text/plain": [
       "datetime.datetime(2015, 10, 24, 22, 29, 54)"
      ]
     },
     "metadata": {},
     "output_type": "display_data"
    },
    {
     "data": {
      "text/plain": [
       "2015"
      ]
     },
     "metadata": {},
     "output_type": "display_data"
    },
    {
     "data": {
      "text/plain": [
       "10"
      ]
     },
     "metadata": {},
     "output_type": "display_data"
    },
    {
     "data": {
      "text/plain": [
       "24"
      ]
     },
     "metadata": {},
     "output_type": "display_data"
    }
   ],
   "source": [
    "display(datetime.fromtimestamp(1445714994))\n",
    "display(datetime.fromtimestamp(1445714994).year)\n",
    "display(datetime.fromtimestamp(1445714994).month)\n",
    "display(datetime.fromtimestamp(1445714994).day)"
   ]
  },
  {
   "cell_type": "code",
   "execution_count": 22,
   "metadata": {
    "ExecuteTime": {
     "end_time": "2020-02-03T17:12:23.396821Z",
     "start_time": "2020-02-03T17:12:23.385157Z"
    }
   },
   "outputs": [],
   "source": [
    "tags['year_month'] = np.array(year_month)"
   ]
  },
  {
   "cell_type": "code",
   "execution_count": 25,
   "metadata": {
    "ExecuteTime": {
     "end_time": "2020-02-03T17:12:30.998514Z",
     "start_time": "2020-02-03T17:12:30.976519Z"
    }
   },
   "outputs": [
    {
     "data": {
      "text/html": [
       "<div>\n",
       "<style scoped>\n",
       "    .dataframe tbody tr th:only-of-type {\n",
       "        vertical-align: middle;\n",
       "    }\n",
       "\n",
       "    .dataframe tbody tr th {\n",
       "        vertical-align: top;\n",
       "    }\n",
       "\n",
       "    .dataframe thead th {\n",
       "        text-align: right;\n",
       "    }\n",
       "</style>\n",
       "<table border=\"1\" class=\"dataframe\">\n",
       "  <thead>\n",
       "    <tr style=\"text-align: right;\">\n",
       "      <th></th>\n",
       "      <th>userId</th>\n",
       "      <th>movieId</th>\n",
       "      <th>tag</th>\n",
       "      <th>timestamp</th>\n",
       "      <th>year_month</th>\n",
       "    </tr>\n",
       "  </thead>\n",
       "  <tbody>\n",
       "    <tr>\n",
       "      <th>0</th>\n",
       "      <td>2</td>\n",
       "      <td>60756</td>\n",
       "      <td>funny</td>\n",
       "      <td>1445714994</td>\n",
       "      <td>2015-10</td>\n",
       "    </tr>\n",
       "    <tr>\n",
       "      <th>1</th>\n",
       "      <td>2</td>\n",
       "      <td>60756</td>\n",
       "      <td>Highly quotable</td>\n",
       "      <td>1445714996</td>\n",
       "      <td>2015-10</td>\n",
       "    </tr>\n",
       "    <tr>\n",
       "      <th>2</th>\n",
       "      <td>2</td>\n",
       "      <td>60756</td>\n",
       "      <td>will ferrell</td>\n",
       "      <td>1445714992</td>\n",
       "      <td>2015-10</td>\n",
       "    </tr>\n",
       "    <tr>\n",
       "      <th>3</th>\n",
       "      <td>2</td>\n",
       "      <td>89774</td>\n",
       "      <td>Boxing story</td>\n",
       "      <td>1445715207</td>\n",
       "      <td>2015-10</td>\n",
       "    </tr>\n",
       "    <tr>\n",
       "      <th>4</th>\n",
       "      <td>2</td>\n",
       "      <td>89774</td>\n",
       "      <td>MMA</td>\n",
       "      <td>1445715200</td>\n",
       "      <td>2015-10</td>\n",
       "    </tr>\n",
       "    <tr>\n",
       "      <th>5</th>\n",
       "      <td>2</td>\n",
       "      <td>89774</td>\n",
       "      <td>Tom Hardy</td>\n",
       "      <td>1445715205</td>\n",
       "      <td>2015-10</td>\n",
       "    </tr>\n",
       "    <tr>\n",
       "      <th>6</th>\n",
       "      <td>2</td>\n",
       "      <td>106782</td>\n",
       "      <td>drugs</td>\n",
       "      <td>1445715054</td>\n",
       "      <td>2015-10</td>\n",
       "    </tr>\n",
       "    <tr>\n",
       "      <th>7</th>\n",
       "      <td>2</td>\n",
       "      <td>106782</td>\n",
       "      <td>Leonardo DiCaprio</td>\n",
       "      <td>1445715051</td>\n",
       "      <td>2015-10</td>\n",
       "    </tr>\n",
       "    <tr>\n",
       "      <th>8</th>\n",
       "      <td>2</td>\n",
       "      <td>106782</td>\n",
       "      <td>Martin Scorsese</td>\n",
       "      <td>1445715056</td>\n",
       "      <td>2015-10</td>\n",
       "    </tr>\n",
       "    <tr>\n",
       "      <th>9</th>\n",
       "      <td>7</td>\n",
       "      <td>48516</td>\n",
       "      <td>way too long</td>\n",
       "      <td>1169687325</td>\n",
       "      <td>2007-1</td>\n",
       "    </tr>\n",
       "    <tr>\n",
       "      <th>10</th>\n",
       "      <td>18</td>\n",
       "      <td>431</td>\n",
       "      <td>Al Pacino</td>\n",
       "      <td>1462138765</td>\n",
       "      <td>2016-5</td>\n",
       "    </tr>\n",
       "    <tr>\n",
       "      <th>11</th>\n",
       "      <td>18</td>\n",
       "      <td>431</td>\n",
       "      <td>gangster</td>\n",
       "      <td>1462138749</td>\n",
       "      <td>2016-5</td>\n",
       "    </tr>\n",
       "    <tr>\n",
       "      <th>12</th>\n",
       "      <td>18</td>\n",
       "      <td>431</td>\n",
       "      <td>mafia</td>\n",
       "      <td>1462138755</td>\n",
       "      <td>2016-5</td>\n",
       "    </tr>\n",
       "    <tr>\n",
       "      <th>13</th>\n",
       "      <td>18</td>\n",
       "      <td>1221</td>\n",
       "      <td>Al Pacino</td>\n",
       "      <td>1461699306</td>\n",
       "      <td>2016-4</td>\n",
       "    </tr>\n",
       "    <tr>\n",
       "      <th>14</th>\n",
       "      <td>18</td>\n",
       "      <td>1221</td>\n",
       "      <td>Mafia</td>\n",
       "      <td>1461699303</td>\n",
       "      <td>2016-4</td>\n",
       "    </tr>\n",
       "    <tr>\n",
       "      <th>15</th>\n",
       "      <td>18</td>\n",
       "      <td>5995</td>\n",
       "      <td>holocaust</td>\n",
       "      <td>1455735472</td>\n",
       "      <td>2016-2</td>\n",
       "    </tr>\n",
       "    <tr>\n",
       "      <th>16</th>\n",
       "      <td>18</td>\n",
       "      <td>5995</td>\n",
       "      <td>true story</td>\n",
       "      <td>1455735479</td>\n",
       "      <td>2016-2</td>\n",
       "    </tr>\n",
       "    <tr>\n",
       "      <th>17</th>\n",
       "      <td>18</td>\n",
       "      <td>44665</td>\n",
       "      <td>twist ending</td>\n",
       "      <td>1456948283</td>\n",
       "      <td>2016-3</td>\n",
       "    </tr>\n",
       "    <tr>\n",
       "      <th>18</th>\n",
       "      <td>18</td>\n",
       "      <td>52604</td>\n",
       "      <td>Anthony Hopkins</td>\n",
       "      <td>1457650696</td>\n",
       "      <td>2016-3</td>\n",
       "    </tr>\n",
       "    <tr>\n",
       "      <th>19</th>\n",
       "      <td>18</td>\n",
       "      <td>52604</td>\n",
       "      <td>courtroom drama</td>\n",
       "      <td>1457650711</td>\n",
       "      <td>2016-3</td>\n",
       "    </tr>\n",
       "    <tr>\n",
       "      <th>20</th>\n",
       "      <td>18</td>\n",
       "      <td>52604</td>\n",
       "      <td>twist ending</td>\n",
       "      <td>1457650682</td>\n",
       "      <td>2016-3</td>\n",
       "    </tr>\n",
       "    <tr>\n",
       "      <th>21</th>\n",
       "      <td>18</td>\n",
       "      <td>88094</td>\n",
       "      <td>britpop</td>\n",
       "      <td>1457444500</td>\n",
       "      <td>2016-3</td>\n",
       "    </tr>\n",
       "    <tr>\n",
       "      <th>22</th>\n",
       "      <td>18</td>\n",
       "      <td>88094</td>\n",
       "      <td>indie record label</td>\n",
       "      <td>1457444592</td>\n",
       "      <td>2016-3</td>\n",
       "    </tr>\n",
       "    <tr>\n",
       "      <th>23</th>\n",
       "      <td>18</td>\n",
       "      <td>88094</td>\n",
       "      <td>music</td>\n",
       "      <td>1457444609</td>\n",
       "      <td>2016-3</td>\n",
       "    </tr>\n",
       "    <tr>\n",
       "      <th>24</th>\n",
       "      <td>18</td>\n",
       "      <td>144210</td>\n",
       "      <td>dumpster diving</td>\n",
       "      <td>1455060381</td>\n",
       "      <td>2016-2</td>\n",
       "    </tr>\n",
       "    <tr>\n",
       "      <th>25</th>\n",
       "      <td>18</td>\n",
       "      <td>144210</td>\n",
       "      <td>Sustainability</td>\n",
       "      <td>1455060452</td>\n",
       "      <td>2016-2</td>\n",
       "    </tr>\n",
       "    <tr>\n",
       "      <th>26</th>\n",
       "      <td>21</td>\n",
       "      <td>1569</td>\n",
       "      <td>romantic comedy</td>\n",
       "      <td>1419805413</td>\n",
       "      <td>2014-12</td>\n",
       "    </tr>\n",
       "    <tr>\n",
       "      <th>27</th>\n",
       "      <td>21</td>\n",
       "      <td>1569</td>\n",
       "      <td>wedding</td>\n",
       "      <td>1419805419</td>\n",
       "      <td>2014-12</td>\n",
       "    </tr>\n",
       "    <tr>\n",
       "      <th>28</th>\n",
       "      <td>21</td>\n",
       "      <td>118985</td>\n",
       "      <td>painter</td>\n",
       "      <td>1419805477</td>\n",
       "      <td>2014-12</td>\n",
       "    </tr>\n",
       "    <tr>\n",
       "      <th>29</th>\n",
       "      <td>21</td>\n",
       "      <td>119141</td>\n",
       "      <td>bloody</td>\n",
       "      <td>1419793962</td>\n",
       "      <td>2014-12</td>\n",
       "    </tr>\n",
       "    <tr>\n",
       "      <th>...</th>\n",
       "      <td>...</td>\n",
       "      <td>...</td>\n",
       "      <td>...</td>\n",
       "      <td>...</td>\n",
       "      <td>...</td>\n",
       "    </tr>\n",
       "    <tr>\n",
       "      <th>3653</th>\n",
       "      <td>599</td>\n",
       "      <td>2959</td>\n",
       "      <td>philosophy</td>\n",
       "      <td>1498456898</td>\n",
       "      <td>2017-6</td>\n",
       "    </tr>\n",
       "    <tr>\n",
       "      <th>3654</th>\n",
       "      <td>599</td>\n",
       "      <td>2959</td>\n",
       "      <td>postmodern</td>\n",
       "      <td>1498456954</td>\n",
       "      <td>2017-6</td>\n",
       "    </tr>\n",
       "    <tr>\n",
       "      <th>3655</th>\n",
       "      <td>599</td>\n",
       "      <td>2959</td>\n",
       "      <td>powerful ending</td>\n",
       "      <td>1498456921</td>\n",
       "      <td>2017-6</td>\n",
       "    </tr>\n",
       "    <tr>\n",
       "      <th>3656</th>\n",
       "      <td>599</td>\n",
       "      <td>2959</td>\n",
       "      <td>psychological</td>\n",
       "      <td>1498456909</td>\n",
       "      <td>2017-6</td>\n",
       "    </tr>\n",
       "    <tr>\n",
       "      <th>3657</th>\n",
       "      <td>599</td>\n",
       "      <td>2959</td>\n",
       "      <td>psychological thriller</td>\n",
       "      <td>1498456953</td>\n",
       "      <td>2017-6</td>\n",
       "    </tr>\n",
       "    <tr>\n",
       "      <th>3658</th>\n",
       "      <td>599</td>\n",
       "      <td>2959</td>\n",
       "      <td>psychology</td>\n",
       "      <td>1498456890</td>\n",
       "      <td>2017-6</td>\n",
       "    </tr>\n",
       "    <tr>\n",
       "      <th>3659</th>\n",
       "      <td>599</td>\n",
       "      <td>2959</td>\n",
       "      <td>quirky</td>\n",
       "      <td>1498456918</td>\n",
       "      <td>2017-6</td>\n",
       "    </tr>\n",
       "    <tr>\n",
       "      <th>3660</th>\n",
       "      <td>599</td>\n",
       "      <td>2959</td>\n",
       "      <td>satirical</td>\n",
       "      <td>1498456920</td>\n",
       "      <td>2017-6</td>\n",
       "    </tr>\n",
       "    <tr>\n",
       "      <th>3661</th>\n",
       "      <td>599</td>\n",
       "      <td>2959</td>\n",
       "      <td>schizophrenia</td>\n",
       "      <td>1498456967</td>\n",
       "      <td>2017-6</td>\n",
       "    </tr>\n",
       "    <tr>\n",
       "      <th>3662</th>\n",
       "      <td>599</td>\n",
       "      <td>2959</td>\n",
       "      <td>social commentary</td>\n",
       "      <td>1498456894</td>\n",
       "      <td>2017-6</td>\n",
       "    </tr>\n",
       "    <tr>\n",
       "      <th>3663</th>\n",
       "      <td>599</td>\n",
       "      <td>2959</td>\n",
       "      <td>societal criticism</td>\n",
       "      <td>1498456946</td>\n",
       "      <td>2017-6</td>\n",
       "    </tr>\n",
       "    <tr>\n",
       "      <th>3664</th>\n",
       "      <td>599</td>\n",
       "      <td>2959</td>\n",
       "      <td>stylized</td>\n",
       "      <td>1498456932</td>\n",
       "      <td>2017-6</td>\n",
       "    </tr>\n",
       "    <tr>\n",
       "      <th>3665</th>\n",
       "      <td>599</td>\n",
       "      <td>2959</td>\n",
       "      <td>surreal</td>\n",
       "      <td>1498456900</td>\n",
       "      <td>2017-6</td>\n",
       "    </tr>\n",
       "    <tr>\n",
       "      <th>3666</th>\n",
       "      <td>599</td>\n",
       "      <td>2959</td>\n",
       "      <td>TERRORISM</td>\n",
       "      <td>1498456966</td>\n",
       "      <td>2017-6</td>\n",
       "    </tr>\n",
       "    <tr>\n",
       "      <th>3667</th>\n",
       "      <td>599</td>\n",
       "      <td>2959</td>\n",
       "      <td>thought-provoking</td>\n",
       "      <td>1498456901</td>\n",
       "      <td>2017-6</td>\n",
       "    </tr>\n",
       "    <tr>\n",
       "      <th>3668</th>\n",
       "      <td>599</td>\n",
       "      <td>2959</td>\n",
       "      <td>twist</td>\n",
       "      <td>1498456943</td>\n",
       "      <td>2017-6</td>\n",
       "    </tr>\n",
       "    <tr>\n",
       "      <th>3669</th>\n",
       "      <td>599</td>\n",
       "      <td>2959</td>\n",
       "      <td>twist ending</td>\n",
       "      <td>1498456888</td>\n",
       "      <td>2017-6</td>\n",
       "    </tr>\n",
       "    <tr>\n",
       "      <th>3670</th>\n",
       "      <td>599</td>\n",
       "      <td>2959</td>\n",
       "      <td>violence</td>\n",
       "      <td>1498456904</td>\n",
       "      <td>2017-6</td>\n",
       "    </tr>\n",
       "    <tr>\n",
       "      <th>3671</th>\n",
       "      <td>599</td>\n",
       "      <td>2959</td>\n",
       "      <td>violent</td>\n",
       "      <td>1498456914</td>\n",
       "      <td>2017-6</td>\n",
       "    </tr>\n",
       "    <tr>\n",
       "      <th>3672</th>\n",
       "      <td>600</td>\n",
       "      <td>273</td>\n",
       "      <td>gothic</td>\n",
       "      <td>1237739064</td>\n",
       "      <td>2009-3</td>\n",
       "    </tr>\n",
       "    <tr>\n",
       "      <th>3673</th>\n",
       "      <td>606</td>\n",
       "      <td>1357</td>\n",
       "      <td>music</td>\n",
       "      <td>1176765393</td>\n",
       "      <td>2007-4</td>\n",
       "    </tr>\n",
       "    <tr>\n",
       "      <th>3674</th>\n",
       "      <td>606</td>\n",
       "      <td>1948</td>\n",
       "      <td>British</td>\n",
       "      <td>1177512649</td>\n",
       "      <td>2007-4</td>\n",
       "    </tr>\n",
       "    <tr>\n",
       "      <th>3675</th>\n",
       "      <td>606</td>\n",
       "      <td>3578</td>\n",
       "      <td>Romans</td>\n",
       "      <td>1173212944</td>\n",
       "      <td>2007-3</td>\n",
       "    </tr>\n",
       "    <tr>\n",
       "      <th>3676</th>\n",
       "      <td>606</td>\n",
       "      <td>5694</td>\n",
       "      <td>70mm</td>\n",
       "      <td>1175638092</td>\n",
       "      <td>2007-4</td>\n",
       "    </tr>\n",
       "    <tr>\n",
       "      <th>3677</th>\n",
       "      <td>606</td>\n",
       "      <td>6107</td>\n",
       "      <td>World War II</td>\n",
       "      <td>1178473747</td>\n",
       "      <td>2007-5</td>\n",
       "    </tr>\n",
       "    <tr>\n",
       "      <th>3678</th>\n",
       "      <td>606</td>\n",
       "      <td>7382</td>\n",
       "      <td>for katie</td>\n",
       "      <td>1171234019</td>\n",
       "      <td>2007-2</td>\n",
       "    </tr>\n",
       "    <tr>\n",
       "      <th>3679</th>\n",
       "      <td>606</td>\n",
       "      <td>7936</td>\n",
       "      <td>austere</td>\n",
       "      <td>1173392334</td>\n",
       "      <td>2007-3</td>\n",
       "    </tr>\n",
       "    <tr>\n",
       "      <th>3680</th>\n",
       "      <td>610</td>\n",
       "      <td>3265</td>\n",
       "      <td>gun fu</td>\n",
       "      <td>1493843984</td>\n",
       "      <td>2017-5</td>\n",
       "    </tr>\n",
       "    <tr>\n",
       "      <th>3681</th>\n",
       "      <td>610</td>\n",
       "      <td>3265</td>\n",
       "      <td>heroic bloodshed</td>\n",
       "      <td>1493843978</td>\n",
       "      <td>2017-5</td>\n",
       "    </tr>\n",
       "    <tr>\n",
       "      <th>3682</th>\n",
       "      <td>610</td>\n",
       "      <td>168248</td>\n",
       "      <td>Heroic Bloodshed</td>\n",
       "      <td>1493844270</td>\n",
       "      <td>2017-5</td>\n",
       "    </tr>\n",
       "  </tbody>\n",
       "</table>\n",
       "<p>3683 rows × 5 columns</p>\n",
       "</div>"
      ],
      "text/plain": [
       "      userId  movieId                     tag   timestamp year_month\n",
       "0          2    60756                   funny  1445714994    2015-10\n",
       "1          2    60756         Highly quotable  1445714996    2015-10\n",
       "2          2    60756            will ferrell  1445714992    2015-10\n",
       "3          2    89774            Boxing story  1445715207    2015-10\n",
       "4          2    89774                     MMA  1445715200    2015-10\n",
       "5          2    89774               Tom Hardy  1445715205    2015-10\n",
       "6          2   106782                   drugs  1445715054    2015-10\n",
       "7          2   106782       Leonardo DiCaprio  1445715051    2015-10\n",
       "8          2   106782         Martin Scorsese  1445715056    2015-10\n",
       "9          7    48516            way too long  1169687325     2007-1\n",
       "10        18      431               Al Pacino  1462138765     2016-5\n",
       "11        18      431                gangster  1462138749     2016-5\n",
       "12        18      431                   mafia  1462138755     2016-5\n",
       "13        18     1221               Al Pacino  1461699306     2016-4\n",
       "14        18     1221                   Mafia  1461699303     2016-4\n",
       "15        18     5995               holocaust  1455735472     2016-2\n",
       "16        18     5995              true story  1455735479     2016-2\n",
       "17        18    44665            twist ending  1456948283     2016-3\n",
       "18        18    52604         Anthony Hopkins  1457650696     2016-3\n",
       "19        18    52604         courtroom drama  1457650711     2016-3\n",
       "20        18    52604            twist ending  1457650682     2016-3\n",
       "21        18    88094                 britpop  1457444500     2016-3\n",
       "22        18    88094      indie record label  1457444592     2016-3\n",
       "23        18    88094                   music  1457444609     2016-3\n",
       "24        18   144210         dumpster diving  1455060381     2016-2\n",
       "25        18   144210          Sustainability  1455060452     2016-2\n",
       "26        21     1569         romantic comedy  1419805413    2014-12\n",
       "27        21     1569                 wedding  1419805419    2014-12\n",
       "28        21   118985                 painter  1419805477    2014-12\n",
       "29        21   119141                  bloody  1419793962    2014-12\n",
       "...      ...      ...                     ...         ...        ...\n",
       "3653     599     2959              philosophy  1498456898     2017-6\n",
       "3654     599     2959              postmodern  1498456954     2017-6\n",
       "3655     599     2959         powerful ending  1498456921     2017-6\n",
       "3656     599     2959           psychological  1498456909     2017-6\n",
       "3657     599     2959  psychological thriller  1498456953     2017-6\n",
       "3658     599     2959              psychology  1498456890     2017-6\n",
       "3659     599     2959                  quirky  1498456918     2017-6\n",
       "3660     599     2959               satirical  1498456920     2017-6\n",
       "3661     599     2959           schizophrenia  1498456967     2017-6\n",
       "3662     599     2959       social commentary  1498456894     2017-6\n",
       "3663     599     2959      societal criticism  1498456946     2017-6\n",
       "3664     599     2959                stylized  1498456932     2017-6\n",
       "3665     599     2959                 surreal  1498456900     2017-6\n",
       "3666     599     2959               TERRORISM  1498456966     2017-6\n",
       "3667     599     2959       thought-provoking  1498456901     2017-6\n",
       "3668     599     2959                   twist  1498456943     2017-6\n",
       "3669     599     2959            twist ending  1498456888     2017-6\n",
       "3670     599     2959                violence  1498456904     2017-6\n",
       "3671     599     2959                 violent  1498456914     2017-6\n",
       "3672     600      273                  gothic  1237739064     2009-3\n",
       "3673     606     1357                   music  1176765393     2007-4\n",
       "3674     606     1948                 British  1177512649     2007-4\n",
       "3675     606     3578                  Romans  1173212944     2007-3\n",
       "3676     606     5694                    70mm  1175638092     2007-4\n",
       "3677     606     6107            World War II  1178473747     2007-5\n",
       "3678     606     7382               for katie  1171234019     2007-2\n",
       "3679     606     7936                 austere  1173392334     2007-3\n",
       "3680     610     3265                  gun fu  1493843984     2017-5\n",
       "3681     610     3265        heroic bloodshed  1493843978     2017-5\n",
       "3682     610   168248        Heroic Bloodshed  1493844270     2017-5\n",
       "\n",
       "[3683 rows x 5 columns]"
      ]
     },
     "execution_count": 25,
     "metadata": {},
     "output_type": "execute_result"
    }
   ],
   "source": [
    "tags"
   ]
  },
  {
   "cell_type": "code",
   "execution_count": 31,
   "metadata": {
    "ExecuteTime": {
     "end_time": "2020-02-03T17:15:30.794968Z",
     "start_time": "2020-02-03T17:15:30.516866Z"
    }
   },
   "outputs": [
    {
     "data": {
      "text/plain": [
       "<matplotlib.axes._subplots.AxesSubplot at 0x1a1f97d198>"
      ]
     },
     "execution_count": 31,
     "metadata": {},
     "output_type": "execute_result"
    },
    {
     "data": {
      "image/png": "[encoded data removed]",
      "text/plain": [
       "<Figure size 432x288 with 1 Axes>"
      ]
     },
     "metadata": {
      "needs_background": "light"
     },
     "output_type": "display_data"
    }
   ],
   "source": [
    "tags.year_month.value_counts()[:30].plot.bar()"
   ]
  },
  {
   "cell_type": "code",
   "execution_count": 32,
   "metadata": {
    "ExecuteTime": {
     "end_time": "2019-05-30T17:24:45.081057Z",
     "start_time": "2019-05-30T17:24:44.837503Z"
    }
   },
   "outputs": [
    {
     "data": {
      "text/plain": [
       "<matplotlib.axes._subplots.AxesSubplot at 0x1a1f8557b8>"
      ]
     },
     "execution_count": 32,
     "metadata": {},
     "output_type": "execute_result"
    },
    {
     "data": {
      "image/png": "[encoded data removed]",
      "text/plain": [
       "<Figure size 432x288 with 1 Axes>"
      ]
     },
     "metadata": {
      "needs_background": "light"
     },
     "output_type": "display_data"
    }
   ],
   "source": [
    "tags.groupby('year_month').tag.count().hist(bins=30)"
   ]
  },
  {
   "cell_type": "code",
   "execution_count": 33,
   "metadata": {
    "ExecuteTime": {
     "end_time": "2019-05-30T17:24:55.507388Z",
     "start_time": "2019-05-30T17:24:55.498286Z"
    }
   },
   "outputs": [
    {
     "data": {
      "text/plain": [
       "50.45205479452055"
      ]
     },
     "execution_count": 33,
     "metadata": {},
     "output_type": "execute_result"
    }
   ],
   "source": [
    "tags.groupby('year_month').tag.count().mean()"
   ]
  },
  {
   "cell_type": "code",
   "execution_count": 34,
   "metadata": {
    "ExecuteTime": {
     "end_time": "2019-05-30T17:25:02.404824Z",
     "start_time": "2019-05-30T17:25:02.396560Z"
    }
   },
   "outputs": [
    {
     "data": {
      "text/plain": [
       "5.0"
      ]
     },
     "execution_count": 34,
     "metadata": {},
     "output_type": "execute_result"
    }
   ],
   "source": [
    "tags.groupby('year_month').tag.count().median()"
   ]
  },
  {
   "cell_type": "code",
   "execution_count": 35,
   "metadata": {
    "ExecuteTime": {
     "end_time": "2020-02-03T17:17:26.055872Z",
     "start_time": "2020-02-03T17:17:26.050898Z"
    }
   },
   "outputs": [
    {
     "data": {
      "text/plain": [
       "5"
      ]
     },
     "execution_count": 35,
     "metadata": {},
     "output_type": "execute_result"
    }
   ],
   "source": [
    "len('Adventure|Animation|Children|Comedy|Fantasy'.split('|'))"
   ]
  },
  {
   "cell_type": "code",
   "execution_count": 36,
   "metadata": {
    "ExecuteTime": {
     "end_time": "2020-02-03T17:17:36.245177Z",
     "start_time": "2020-02-03T17:17:36.232244Z"
    }
   },
   "outputs": [],
   "source": [
    "num_genres_on_movie = [len(g.split('|')) for g in movies.genres.values]"
   ]
  },
  {
   "cell_type": "code",
   "execution_count": 37,
   "metadata": {
    "ExecuteTime": {
     "end_time": "2020-02-03T17:17:57.177820Z",
     "start_time": "2020-02-03T17:17:57.044205Z"
    }
   },
   "outputs": [
    {
     "data": {
      "image/png": "[encoded data removed]",
      "text/plain": [
       "<Figure size 432x288 with 1 Axes>"
      ]
     },
     "metadata": {
      "needs_background": "light"
     },
     "output_type": "display_data"
    }
   ],
   "source": [
    "plt.hist(num_genres_on_movie, bins=10);"
   ]
  },
  {
   "cell_type": "code",
   "execution_count": 38,
   "metadata": {
    "ExecuteTime": {
     "end_time": "2019-05-30T17:25:34.228866Z",
     "start_time": "2019-05-30T17:25:34.220785Z"
    }
   },
   "outputs": [
    {
     "data": {
      "text/plain": [
       "2.2668856497639087"
      ]
     },
     "execution_count": 38,
     "metadata": {},
     "output_type": "execute_result"
    }
   ],
   "source": [
    "np.mean(num_genres_on_movie)"
   ]
  },
  {
   "cell_type": "code",
   "execution_count": 39,
   "metadata": {
    "ExecuteTime": {
     "end_time": "2019-05-30T17:25:34.836728Z",
     "start_time": "2019-05-30T17:25:34.828975Z"
    }
   },
   "outputs": [
    {
     "data": {
      "text/plain": [
       "2.0"
      ]
     },
     "execution_count": 39,
     "metadata": {},
     "output_type": "execute_result"
    }
   ],
   "source": [
    "np.median(num_genres_on_movie)"
   ]
  },
  {
   "cell_type": "code",
   "execution_count": null,
   "metadata": {},
   "outputs": [],
   "source": []
  }
 ],
 "metadata": {
  "kernelspec": {
   "display_name": "Python 3",
   "language": "python",
   "name": "python3"
  },
  "language_info": {
   "codemirror_mode": {
    "name": "ipython",
    "version": 3
   },
   "file_extension": ".py",
   "mimetype": "text/x-python",
   "name": "python",
   "nbconvert_exporter": "python",
   "pygments_lexer": "ipython3",
   "version": "3.7.3"
  }
 },
 "nbformat": 4,
 "nbformat_minor": 2
}
