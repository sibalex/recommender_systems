{
 "cells": [
  {
   "cell_type": "markdown",
   "metadata": {},
   "source": [
    "Требуется построить модель рекомендаций на основе скрытых факторов (implicit) на основе dataset’а \\\n",
    "https://grouplens.org/datasets/hetrec-2011/ (Delicious Bookmarks)\n",
    "\n",
    "\n",
    "- Documentation: [implicit](https://implicit.readthedocs.io/en/latest/quickstart.html)\\\n",
    "**!pip install implicit**\n",
    "\n",
    "\n",
    "- Requirements:\n",
    "This library requires SciPy version 0.16 or later. Running on OSX requires an OpenMP compiler, which can be installed with homebrew:\\\n",
    "**!brew install gcc**."
   ]
  },
  {
   "cell_type": "code",
   "execution_count": 92,
   "metadata": {},
   "outputs": [],
   "source": [
    "import numpy as np\n",
    "import pandas as pd\n",
    "import scipy.sparse as sparse\n",
    "# import matplotlib.pyplot as plt \n",
    "\n",
    "from tqdm import tqdm_notebook, tqdm\n",
    "from implicit.als import AlternatingLeastSquares\n",
    "\n",
    "import warnings\n",
    "warnings.simplefilter('ignore')\n",
    "\n",
    "# %matplotlib inline"
   ]
  },
  {
   "cell_type": "code",
   "execution_count": 63,
   "metadata": {},
   "outputs": [
    {
     "data": {
      "text/html": [
       "<div>\n",
       "<style scoped>\n",
       "    .dataframe tbody tr th:only-of-type {\n",
       "        vertical-align: middle;\n",
       "    }\n",
       "\n",
       "    .dataframe tbody tr th {\n",
       "        vertical-align: top;\n",
       "    }\n",
       "\n",
       "    .dataframe thead th {\n",
       "        text-align: right;\n",
       "    }\n",
       "</style>\n",
       "<table border=\"1\" class=\"dataframe\">\n",
       "  <thead>\n",
       "    <tr style=\"text-align: right;\">\n",
       "      <th></th>\n",
       "      <th>userID</th>\n",
       "      <th>bookmarkID</th>\n",
       "      <th>tagID</th>\n",
       "    </tr>\n",
       "  </thead>\n",
       "  <tbody>\n",
       "    <tr>\n",
       "      <th>0</th>\n",
       "      <td>8</td>\n",
       "      <td>1</td>\n",
       "      <td>1</td>\n",
       "    </tr>\n",
       "    <tr>\n",
       "      <th>1</th>\n",
       "      <td>8</td>\n",
       "      <td>2</td>\n",
       "      <td>1</td>\n",
       "    </tr>\n",
       "    <tr>\n",
       "      <th>2</th>\n",
       "      <td>8</td>\n",
       "      <td>7</td>\n",
       "      <td>1</td>\n",
       "    </tr>\n",
       "    <tr>\n",
       "      <th>3</th>\n",
       "      <td>8</td>\n",
       "      <td>7</td>\n",
       "      <td>6</td>\n",
       "    </tr>\n",
       "    <tr>\n",
       "      <th>4</th>\n",
       "      <td>8</td>\n",
       "      <td>7</td>\n",
       "      <td>7</td>\n",
       "    </tr>\n",
       "  </tbody>\n",
       "</table>\n",
       "</div>"
      ],
      "text/plain": [
       "   userID  bookmarkID  tagID\n",
       "0       8           1      1\n",
       "1       8           2      1\n",
       "2       8           7      1\n",
       "3       8           7      6\n",
       "4       8           7      7"
      ]
     },
     "execution_count": 63,
     "metadata": {},
     "output_type": "execute_result"
    }
   ],
   "source": [
    "raw_data = pd.read_table('./hetrec2011-delicious-2k/user_taggedbookmarks-timestamps.dat', usecols=['userID','bookmarkID','tagID'])\n",
    "\n",
    "raw_data.head()"
   ]
  },
  {
   "cell_type": "code",
   "execution_count": 64,
   "metadata": {},
   "outputs": [
    {
     "data": {
      "text/html": [
       "<div>\n",
       "<style scoped>\n",
       "    .dataframe tbody tr th:only-of-type {\n",
       "        vertical-align: middle;\n",
       "    }\n",
       "\n",
       "    .dataframe tbody tr th {\n",
       "        vertical-align: top;\n",
       "    }\n",
       "\n",
       "    .dataframe thead th {\n",
       "        text-align: right;\n",
       "    }\n",
       "</style>\n",
       "<table border=\"1\" class=\"dataframe\">\n",
       "  <thead>\n",
       "    <tr style=\"text-align: right;\">\n",
       "      <th></th>\n",
       "      <th>userID</th>\n",
       "      <th>bookmarkID</th>\n",
       "      <th>tagCount</th>\n",
       "    </tr>\n",
       "  </thead>\n",
       "  <tbody>\n",
       "    <tr>\n",
       "      <th>0</th>\n",
       "      <td>8</td>\n",
       "      <td>1</td>\n",
       "      <td>1</td>\n",
       "    </tr>\n",
       "    <tr>\n",
       "      <th>1</th>\n",
       "      <td>8</td>\n",
       "      <td>2</td>\n",
       "      <td>1</td>\n",
       "    </tr>\n",
       "    <tr>\n",
       "      <th>2</th>\n",
       "      <td>8</td>\n",
       "      <td>7</td>\n",
       "      <td>3</td>\n",
       "    </tr>\n",
       "    <tr>\n",
       "      <th>3</th>\n",
       "      <td>8</td>\n",
       "      <td>8</td>\n",
       "      <td>3</td>\n",
       "    </tr>\n",
       "    <tr>\n",
       "      <th>4</th>\n",
       "      <td>8</td>\n",
       "      <td>9</td>\n",
       "      <td>2</td>\n",
       "    </tr>\n",
       "  </tbody>\n",
       "</table>\n",
       "</div>"
      ],
      "text/plain": [
       "   userID  bookmarkID  tagCount\n",
       "0       8           1         1\n",
       "1       8           2         1\n",
       "2       8           7         3\n",
       "3       8           8         3\n",
       "4       8           9         2"
      ]
     },
     "metadata": {},
     "output_type": "display_data"
    },
    {
     "name": "stdout",
     "output_type": "stream",
     "text": [
      "<class 'pandas.core.frame.DataFrame'>\n",
      "Int64Index: 104799 entries, 0 to 104798\n",
      "Data columns (total 3 columns):\n",
      "userID        104799 non-null int64\n",
      "bookmarkID    104799 non-null int64\n",
      "tagCount      104799 non-null int64\n",
      "dtypes: int64(3)\n",
      "memory usage: 3.2 MB\n"
     ]
    },
    {
     "data": {
      "text/plain": [
       "None"
      ]
     },
     "metadata": {},
     "output_type": "display_data"
    }
   ],
   "source": [
    "raw_data = raw_data.groupby(['userID', 'bookmarkID'], as_index=False)['tagID'].count()\n",
    "raw_data.columns = ['userID', 'bookmarkID', 'tagCount']\n",
    "\n",
    "display(raw_data.head())\n",
    "display(raw_data.info())"
   ]
  },
  {
   "cell_type": "code",
   "execution_count": 102,
   "metadata": {},
   "outputs": [],
   "source": [
    "data = raw_data.copy()\n",
    "data = data.dropna()"
   ]
  },
  {
   "cell_type": "code",
   "execution_count": 103,
   "metadata": {},
   "outputs": [],
   "source": [
    "data['userID'] = data['userID'].astype(\"category\").cat.codes\n",
    "data['bookmarkID'] = data['bookmarkID'].astype(\"category\").cat.codes"
   ]
  },
  {
   "cell_type": "code",
   "execution_count": 104,
   "metadata": {},
   "outputs": [
    {
     "data": {
      "text/html": [
       "<div>\n",
       "<style scoped>\n",
       "    .dataframe tbody tr th:only-of-type {\n",
       "        vertical-align: middle;\n",
       "    }\n",
       "\n",
       "    .dataframe tbody tr th {\n",
       "        vertical-align: top;\n",
       "    }\n",
       "\n",
       "    .dataframe thead th {\n",
       "        text-align: right;\n",
       "    }\n",
       "</style>\n",
       "<table border=\"1\" class=\"dataframe\">\n",
       "  <thead>\n",
       "    <tr style=\"text-align: right;\">\n",
       "      <th></th>\n",
       "      <th>userID</th>\n",
       "      <th>bookmarkID</th>\n",
       "      <th>tagCount</th>\n",
       "    </tr>\n",
       "  </thead>\n",
       "  <tbody>\n",
       "    <tr>\n",
       "      <th>0</th>\n",
       "      <td>0</td>\n",
       "      <td>0</td>\n",
       "      <td>1</td>\n",
       "    </tr>\n",
       "    <tr>\n",
       "      <th>1</th>\n",
       "      <td>0</td>\n",
       "      <td>1</td>\n",
       "      <td>1</td>\n",
       "    </tr>\n",
       "    <tr>\n",
       "      <th>2</th>\n",
       "      <td>0</td>\n",
       "      <td>2</td>\n",
       "      <td>3</td>\n",
       "    </tr>\n",
       "    <tr>\n",
       "      <th>3</th>\n",
       "      <td>0</td>\n",
       "      <td>3</td>\n",
       "      <td>3</td>\n",
       "    </tr>\n",
       "    <tr>\n",
       "      <th>4</th>\n",
       "      <td>0</td>\n",
       "      <td>4</td>\n",
       "      <td>2</td>\n",
       "    </tr>\n",
       "  </tbody>\n",
       "</table>\n",
       "</div>"
      ],
      "text/plain": [
       "   userID  bookmarkID  tagCount\n",
       "0       0           0         1\n",
       "1       0           1         1\n",
       "2       0           2         3\n",
       "3       0           3         3\n",
       "4       0           4         2"
      ]
     },
     "execution_count": 104,
     "metadata": {},
     "output_type": "execute_result"
    }
   ],
   "source": [
    "data.head()"
   ]
  },
  {
   "cell_type": "code",
   "execution_count": 105,
   "metadata": {},
   "outputs": [
    {
     "name": "stdout",
     "output_type": "stream",
     "text": [
      "[0, 1, 2, 3, 4]\n",
      "[0, 1, 2, 3, 4]\n",
      "[1, 1, 3, 3, 2]\n",
      "\n",
      "1867 69223 104799\n",
      "104799 104799\n"
     ]
    }
   ],
   "source": [
    "users = list(np.sort(data.userID.unique()))\n",
    "bookmarks = list(np.sort(data.bookmarkID.unique()))\n",
    "tags = list(data.tagCount)\n",
    "\n",
    "print(users[:5])\n",
    "print(bookmarks[:5])\n",
    "print(tags[:5])\n",
    "\n",
    "rows = data.userID.astype(int)\n",
    "cols = data.bookmarkID.astype(int)\n",
    "\n",
    "print()\n",
    "print(len(users), len(bookmark), len(tags))\n",
    "print(len(rows), len(cols))\n",
    "\n",
    "data_sparse = sparse.csr_matrix((tags, (cols, rows)), shape=(len(bookmarks), len(users)))\n",
    "\n",
    "\n",
    "# ------------//L4-part2//------------\n",
    "# users = list(np.sort(data.user_id.unique()))\n",
    "# artists = list(np.sort(data.artist_id.unique()))\n",
    "# plays = list(data.plays)\n",
    "# rows = data.user_id.astype(int)\n",
    "# cols = data.artist_id.astype(int)\n",
    "# print(users[:5])                              ->   [0, 1, 2, 3, 4]\n",
    "# print(artists[:5])                            ->   [0, 1, 2, 3, 4]\n",
    "# print(plays[:5])                              ->   [1099, 897, 717, 706, 691]\n",
    "# print(len(users), len(artists), len(plays))   ->   358868 292363 17535449\n",
    "# print(len(rows), len(cols))                   ->   17535449 17535449\n",
    "# data_sparse = sparse.csr_matrix((plays, (cols, rows)), shape=(len(artists), len(users)))\n",
    "# ------------//--------//------------"
   ]
  },
  {
   "cell_type": "code",
   "execution_count": 106,
   "metadata": {},
   "outputs": [
    {
     "data": {
      "application/vnd.jupyter.widget-view+json": {
       "model_id": "fadfaeff3abc43c7a5beb31aa2ff13a4",
       "version_major": 2,
       "version_minor": 0
      },
      "text/plain": [
       "HBox(children=(IntProgress(value=0, max=15), HTML(value='')))"
      ]
     },
     "metadata": {},
     "output_type": "display_data"
    }
   ],
   "source": [
    "model = AlternatingLeastSquares(factors=100)\n",
    "model.fit(data_sparse)"
   ]
  },
  {
   "cell_type": "code",
   "execution_count": 161,
   "metadata": {},
   "outputs": [],
   "source": [
    "userid = 10\n",
    "user_items = data_sparse.T.tocsr()\n",
    "recommendations = model.recommend(userid, user_items)"
   ]
  },
  {
   "cell_type": "code",
   "execution_count": 162,
   "metadata": {},
   "outputs": [
    {
     "data": {
      "text/plain": [
       "[(655, 0.14221878),\n",
       " (647, 0.12029913),\n",
       " (654, 0.115144685),\n",
       " (646, 0.114259005),\n",
       " (635, 0.1108467),\n",
       " (648, 0.10973576),\n",
       " (644, 0.10944519),\n",
       " (627, 0.108881146),\n",
       " (642, 0.10791519),\n",
       " (656, 0.10789631)]"
      ]
     },
     "execution_count": 162,
     "metadata": {},
     "output_type": "execute_result"
    }
   ],
   "source": [
    "recommendations"
   ]
  },
  {
   "cell_type": "code",
   "execution_count": 155,
   "metadata": {},
   "outputs": [],
   "source": [
    "titles_bookmarks = pd.read_table('./hetrec2011-delicious-2k/bookmarks.dat', usecols=['id','title'], sep='\\\\n', delimiter='\\\\t')\n",
    "# titles_bookmarks.head()"
   ]
  },
  {
   "cell_type": "code",
   "execution_count": 163,
   "metadata": {},
   "outputs": [
    {
     "data": {
      "text/html": [
       "<div>\n",
       "<style scoped>\n",
       "    .dataframe tbody tr th:only-of-type {\n",
       "        vertical-align: middle;\n",
       "    }\n",
       "\n",
       "    .dataframe tbody tr th {\n",
       "        vertical-align: top;\n",
       "    }\n",
       "\n",
       "    .dataframe thead th {\n",
       "        text-align: right;\n",
       "    }\n",
       "</style>\n",
       "<table border=\"1\" class=\"dataframe\">\n",
       "  <thead>\n",
       "    <tr style=\"text-align: right;\">\n",
       "      <th></th>\n",
       "      <th>id</th>\n",
       "      <th>title</th>\n",
       "    </tr>\n",
       "  </thead>\n",
       "  <tbody>\n",
       "    <tr>\n",
       "      <th>459</th>\n",
       "      <td>627</td>\n",
       "      <td>A List Apart: Articles: The Look That Says Book</td>\n",
       "    </tr>\n",
       "    <tr>\n",
       "      <th>466</th>\n",
       "      <td>635</td>\n",
       "      <td>Free Wireframing Kits, UI Design Kits, PDFs an...</td>\n",
       "    </tr>\n",
       "    <tr>\n",
       "      <th>473</th>\n",
       "      <td>642</td>\n",
       "      <td>A List Apart: Articles: Apps vs. the Web</td>\n",
       "    </tr>\n",
       "    <tr>\n",
       "      <th>475</th>\n",
       "      <td>644</td>\n",
       "      <td>30 Mind Blowing Music Website Designs | Dzine ...</td>\n",
       "    </tr>\n",
       "    <tr>\n",
       "      <th>477</th>\n",
       "      <td>646</td>\n",
       "      <td>10 Lessons From Finland&amp;#039;s Summer of Startups</td>\n",
       "    </tr>\n",
       "    <tr>\n",
       "      <th>478</th>\n",
       "      <td>647</td>\n",
       "      <td>50 Tremendous Grunge Wallpapers For Your Deskt...</td>\n",
       "    </tr>\n",
       "    <tr>\n",
       "      <th>483</th>\n",
       "      <td>654</td>\n",
       "      <td>10 Beautiful Sketches for Website Prototypes –...</td>\n",
       "    </tr>\n",
       "    <tr>\n",
       "      <th>484</th>\n",
       "      <td>655</td>\n",
       "      <td>Worldy Inspiration from Tourism Websites | Web...</td>\n",
       "    </tr>\n",
       "    <tr>\n",
       "      <th>485</th>\n",
       "      <td>656</td>\n",
       "      <td>Five Best Personal Project Management Tools</td>\n",
       "    </tr>\n",
       "  </tbody>\n",
       "</table>\n",
       "</div>"
      ],
      "text/plain": [
       "      id                                              title\n",
       "459  627    A List Apart: Articles: The Look That Says Book\n",
       "466  635  Free Wireframing Kits, UI Design Kits, PDFs an...\n",
       "473  642           A List Apart: Articles: Apps vs. the Web\n",
       "475  644  30 Mind Blowing Music Website Designs | Dzine ...\n",
       "477  646  10 Lessons From Finland&#039;s Summer of Startups\n",
       "478  647  50 Tremendous Grunge Wallpapers For Your Deskt...\n",
       "483  654  10 Beautiful Sketches for Website Prototypes –...\n",
       "484  655  Worldy Inspiration from Tourism Websites | Web...\n",
       "485  656        Five Best Personal Project Management Tools"
      ]
     },
     "execution_count": 163,
     "metadata": {},
     "output_type": "execute_result"
    }
   ],
   "source": [
    "rec_ids = np.array(recommendations)[:, 0]\n",
    "titles_bookmarks.query(\"id in @rec_ids\")"
   ]
  },
  {
   "cell_type": "code",
   "execution_count": 170,
   "metadata": {},
   "outputs": [],
   "source": [
    "itemid = 15366\n",
    "related = model.similar_items(itemid)"
   ]
  },
  {
   "cell_type": "code",
   "execution_count": 171,
   "metadata": {},
   "outputs": [
    {
     "data": {
      "text/plain": [
       "[(15366, 0.2319476),\n",
       " (15369, 0.23194419),\n",
       " (15380, 0.23194419),\n",
       " (15374, 0.23192249),\n",
       " (15373, 0.2319089),\n",
       " (15365, 0.23190208),\n",
       " (15375, 0.23189825),\n",
       " (15378, 0.2318428),\n",
       " (15387, 0.23181821),\n",
       " (15376, 0.23181804)]"
      ]
     },
     "execution_count": 171,
     "metadata": {},
     "output_type": "execute_result"
    }
   ],
   "source": [
    "related"
   ]
  },
  {
   "cell_type": "code",
   "execution_count": 172,
   "metadata": {},
   "outputs": [
    {
     "data": {
      "text/html": [
       "<div>\n",
       "<style scoped>\n",
       "    .dataframe tbody tr th:only-of-type {\n",
       "        vertical-align: middle;\n",
       "    }\n",
       "\n",
       "    .dataframe tbody tr th {\n",
       "        vertical-align: top;\n",
       "    }\n",
       "\n",
       "    .dataframe thead th {\n",
       "        text-align: right;\n",
       "    }\n",
       "</style>\n",
       "<table border=\"1\" class=\"dataframe\">\n",
       "  <thead>\n",
       "    <tr style=\"text-align: right;\">\n",
       "      <th></th>\n",
       "      <th>id</th>\n",
       "      <th>title</th>\n",
       "    </tr>\n",
       "  </thead>\n",
       "  <tbody>\n",
       "    <tr>\n",
       "      <th>10802</th>\n",
       "      <td>15373</td>\n",
       "      <td>Education/Projects/JetpackForLearning/Profiles...</td>\n",
       "    </tr>\n",
       "    <tr>\n",
       "      <th>10803</th>\n",
       "      <td>15374</td>\n",
       "      <td>Heuristics for User Interface Design</td>\n",
       "    </tr>\n",
       "    <tr>\n",
       "      <th>10804</th>\n",
       "      <td>15376</td>\n",
       "      <td>annalist » Neulich bei Twitter: Post-Privacy o...</td>\n",
       "    </tr>\n",
       "    <tr>\n",
       "      <th>10806</th>\n",
       "      <td>15380</td>\n",
       "      <td>Drumbeat Learning, Freedom and the Web Festiva...</td>\n",
       "    </tr>\n",
       "    <tr>\n",
       "      <th>10807</th>\n",
       "      <td>15387</td>\n",
       "      <td>Methodos e.V. - Startseite</td>\n",
       "    </tr>\n",
       "  </tbody>\n",
       "</table>\n",
       "</div>"
      ],
      "text/plain": [
       "          id                                              title\n",
       "10802  15373  Education/Projects/JetpackForLearning/Profiles...\n",
       "10803  15374               Heuristics for User Interface Design\n",
       "10804  15376  annalist » Neulich bei Twitter: Post-Privacy o...\n",
       "10806  15380  Drumbeat Learning, Freedom and the Web Festiva...\n",
       "10807  15387                         Methodos e.V. - Startseite"
      ]
     },
     "execution_count": 172,
     "metadata": {},
     "output_type": "execute_result"
    }
   ],
   "source": [
    "rel_ids = np.array(related)[:, 0]\n",
    "titles_bookmarks.query(\"id in @rel_ids\")"
   ]
  },
  {
   "cell_type": "code",
   "execution_count": null,
   "metadata": {},
   "outputs": [],
   "source": [
    "pass"
   ]
  }
 ],
 "metadata": {
  "kernelspec": {
   "display_name": "Python 3",
   "language": "python",
   "name": "python3"
  },
  "language_info": {
   "codemirror_mode": {
    "name": "ipython",
    "version": 3
   },
   "file_extension": ".py",
   "mimetype": "text/x-python",
   "name": "python",
   "nbconvert_exporter": "python",
   "pygments_lexer": "ipython3",
   "version": "3.7.3"
  }
 },
 "nbformat": 4,
 "nbformat_minor": 2
}
